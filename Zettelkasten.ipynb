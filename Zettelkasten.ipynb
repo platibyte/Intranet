{
 "cells": [
  {
   "cell_type": "markdown",
   "metadata": {},
   "source": [
    "# KI antworten\n",
    "\n",
    "[Grok hilfe zu zufälligen Fotos anzeigen lassen](./Zettelkasten/grok_random_photos.ipynb)  \n",
    "\n",
    "[Grok setup Lokal SCP1711](./Zettelkasten/grok_local.ipynb)"
   ]
  },
  {
   "cell_type": "markdown",
   "metadata": {},
   "source": [
    "[Version updaten auf Raspi](./Zettelkasten/update-procedure.ipynb)"
   ]
  },
  {
   "cell_type": "markdown",
   "metadata": {},
   "source": [
    "[Repo installieren auf Raspi](./Zettelkasten/installation.ipynb)"
   ]
  },
  {
   "cell_type": "markdown",
   "metadata": {},
   "source": [
    "[Deployment](./Zettelkasten/deployment.ipynb)"
   ]
  },
  {
   "cell_type": "markdown",
   "metadata": {},
   "source": [
    "[Architektur](./Zettelkasten/architektur.ipynb)"
   ]
  },
  {
   "cell_type": "markdown",
   "metadata": {},
   "source": [
    "[Load balancing](./Zettelkasten/load_balancing.ipynb)"
   ]
  },
  {
   "cell_type": "markdown",
   "metadata": {},
   "source": [
    "# Issue Tracker\n",
    "\n",
    "## Known Bugs\n",
    "\n",
    "* Bilder auf der Frontpage lassen sich nicht vergrössern.\n",
    "* Kalendereinbindung funktioniert nicht.\n",
    "* Die Intranetseite wird als \"nicht sicher\" angezeigt, weil keine Zertifikate implementiert sind.\n",
    "\n",
    "## Geplante Features\n",
    "\n",
    "- zufällige Fotos anzeigen auf der Frontpage.\n",
    "- Möglichkeit Fotos per One-click zu speichern.\n",
    "- persönlicher Google Kalender anzeigen auf der Frontpage.\n",
    "- kollaboratives Notizenfeld für Anweisungen.\n",
    "\n",
    "## sonstige geplante Änderungen\n",
    "- Farbschema anpassen (augenfreundlicher).\n",
    "- API für Arbeitspläne entwickeln."
   ]
  }
 ],
 "metadata": {
  "language_info": {
   "name": "python"
  }
 },
 "nbformat": 4,
 "nbformat_minor": 2
}
