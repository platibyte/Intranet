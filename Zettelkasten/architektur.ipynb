{
 "cells": [
  {
   "cell_type": "markdown",
   "metadata": {},
   "source": [
    "[<<](../Zettelkasten.ipynb)"
   ]
  },
  {
   "cell_type": "markdown",
   "metadata": {},
   "source": [
    "# Erklärung zur Architektur\n",
    "\n",
    "im Ordner backend muss folgender Befehl im Terminal ausgeführt werden:\n",
    "\n",
    "node server.js\n",
    "\n",
    "Damit wird der Dienst für die Random Photos bereit gestellt.\n",
    "\n",
    "Im Hauptordner folgende Befehle nacheinander in einem neuen Terminal:\n",
    "\n",
    "conda activate react-ts-env\n",
    "npm run dev\n",
    "\n",
    "\n",
    "Danach kann die Seite über den Webbrowser unter localhost:8080 geöffnet werden, bzw über {IP}:8080.\n",
    "Die zufälligen photos können über localhost:8080/random-photo angezeigt werden.\n",
    "\n",
    "Aktuell läuft es unter dem Raspberry Pi 192.168.0.17:8080"
   ]
  }
 ],
 "metadata": {
  "language_info": {
   "name": "python"
  }
 },
 "nbformat": 4,
 "nbformat_minor": 2
}
