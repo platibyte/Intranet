{
 "cells": [
  {
   "cell_type": "markdown",
   "metadata": {},
   "source": [
    "[<<](../Zettelkasten.ipynb)"
   ]
  },
  {
   "cell_type": "markdown",
   "metadata": {},
   "source": [
    "# Update Prozedur\n",
    "\n",
    "1. Sicherstellen, dass die aktuellste Version auf Github die korrekte ist.\n",
    "2. Im Terminal auf \"ssh pi@pi\" verbinden\n",
    "\n",
    "```bash\n",
    "ssh pi@pi\n",
    "```\n",
    "\n",
    "3. services stoppen mit \"pm2 stop all\"\n",
    "\n",
    "```bash\n",
    "pm2 stop all\n",
    "```\n",
    "\n",
    "4. git pull durchführen **im richtigen ordner**\n",
    "```bash\n",
    "cd cozy*\n",
    "git pull\n",
    "```\n",
    "5. services wieder starten mit \"pm2 start all\" und ssh schliessen\n",
    "\n",
    "```bash\n",
    "pm2 start all\n",
    "exit\n",
    "```"
   ]
  }
 ],
 "metadata": {
  "language_info": {
   "name": "python"
  }
 },
 "nbformat": 4,
 "nbformat_minor": 2
}
