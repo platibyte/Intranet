{
 "cells": [
  {
   "cell_type": "markdown",
   "id": "766162b4",
   "metadata": {},
   "source": [
    "[<<](../Zettelkasten.ipynb)"
   ]
  },
  {
   "cell_type": "markdown",
   "id": "a858b584",
   "metadata": {},
   "source": [
    "# Load balancing\n",
    "\n",
    "Das Load Balancing läuft über den Raspberry Pi über nginx und pm2.  \n",
    "nginx: \n",
    "* Konfigurationsfiles liegen unter /etc/nginx/sites-available/\n",
    "```sh\n",
    "sudo nano /etc/nginx/sites-available/Intranet\n",
    "```\n",
    "Dort ist das load balancing so definiert:\n",
    "* Grundsätzlich läuft der Service über SCP1711 (192.168.0.26)\n",
    "* als Backup springt der Raspberry Pi selber ein.\n",
    "\n",
    "Entsprechend müssen die Pfade ggf. relativ sein (siehe server.js)!\n",
    "\n",
    "Nach Änderungen an nginx-Konfigurationen immer:\n",
    "* Prüfen, ob die Konfigurationsfiles ok sind:\n",
    "```sh\n",
    "sudo nginx -t\n",
    "```\n",
    "* Service neu starten:\n",
    "```sh\n",
    "sudo systemctl restart nginx\n",
    "```\n"
   ]
  },
  {
   "cell_type": "markdown",
   "id": "0ff38808",
   "metadata": {},
   "source": []
  }
 ],
 "metadata": {
  "language_info": {
   "name": "python"
  }
 },
 "nbformat": 4,
 "nbformat_minor": 5
}
