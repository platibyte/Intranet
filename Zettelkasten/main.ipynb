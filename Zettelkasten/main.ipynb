{
 "cells": [
  {
   "cell_type": "markdown",
   "metadata": {},
   "source": [
    "# KI antworten\n",
    "\n",
    "[Grok hilfe zu zufälligen Fotos anzeigen lassen](./files/grok_random_photos.ipynb)  \n",
    "\n",
    "[Grok setup Lokal SCP1711](./files/grok_local.ipynb)"
   ]
  }
 ],
 "metadata": {
  "language_info": {
   "name": "python"
  }
 },
 "nbformat": 4,
 "nbformat_minor": 2
}
