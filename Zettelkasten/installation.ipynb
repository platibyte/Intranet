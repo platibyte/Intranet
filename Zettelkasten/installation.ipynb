{
 "cells": [
  {
   "cell_type": "markdown",
   "metadata": {},
   "source": [
    "[<<](../Zettelkasten.ipynb)"
   ]
  },
  {
   "cell_type": "markdown",
   "metadata": {},
   "source": [
    "# Installation Repo auf Raspi\n",
    "\n",
    "1. Verbinden auf Raspi\n",
    "```bash\n",
    "ssh pi@pi\n",
    "```\n",
    "2. Im Zielordner das Repo klonen\n",
    "```bash\n",
    "# Optional\n",
    "mkdir Repos\n",
    "cd Repos\n",
    "# Repo klonen\n",
    "git clone https://github.com/platibyte/Intranet-repo.git\n",
    "```\n",
    "3. React installieren\n",
    "```bash\n",
    "npm i\n",
    "```\n",
    "4. Optional: Service hinzufügen\n",
    "```bash\n",
    "pm2 start backend/server.js --name random-photos-server\n",
    "pm2 start npm --name \"Intranet\" -- run dev\n",
    "pm2 save\n",
    "pm2 startup\n",
    "```\n",
    "5. Service starten\n",
    "```bash\n",
    "pm2 start all\n",
    "```\n",
    "6. Raspi neustarten\n",
    "```bash\n",
    "reboot\n",
    "```\n",
    "7. SSH connection schliessen\n",
    "```bash\n",
    "# Nach reboot automatisch getrennt oder mit\n",
    "exit\n",
    "```\n"
   ]
  }
 ],
 "metadata": {
  "language_info": {
   "name": "python"
  }
 },
 "nbformat": 4,
 "nbformat_minor": 2
}
